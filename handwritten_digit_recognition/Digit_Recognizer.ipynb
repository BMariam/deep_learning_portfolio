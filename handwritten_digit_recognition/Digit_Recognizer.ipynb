{
 "cells": [
  {
   "cell_type": "code",
   "execution_count": 1,
   "metadata": {},
   "outputs": [],
   "source": [
    "import pandas as pd\n",
    "import seaborn as sns\n",
    "import matplotlib.pyplot as plt\n",
    "import tensorflow as tf\n",
    "from tensorflow import keras\n",
    "%matplotlib inline"
   ]
  },
  {
   "cell_type": "code",
   "execution_count": 2,
   "metadata": {},
   "outputs": [],
   "source": [
    "mnist = tf.keras.datasets.mnist\n",
    "(X_train, y_train), (X_test, y_test) = mnist.load_data()"
   ]
  },
  {
   "cell_type": "code",
   "execution_count": 3,
   "metadata": {},
   "outputs": [
    {
     "data": {
      "text/plain": [
       "<matplotlib.image.AxesImage at 0x7f726e380410>"
      ]
     },
     "execution_count": 3,
     "metadata": {},
     "output_type": "execute_result"
    },
    {
     "data": {
      "image/png": "[encoded data removed]",
      "text/plain": [
       "<Figure size 432x288 with 1 Axes>"
      ]
     },
     "metadata": {
      "needs_background": "light"
     },
     "output_type": "display_data"
    }
   ],
   "source": [
    "plt.imshow(X_train[0])"
   ]
  },
  {
   "cell_type": "code",
   "execution_count": 4,
   "metadata": {},
   "outputs": [
    {
     "name": "stdout",
     "output_type": "stream",
     "text": [
      "(60000, 28, 28)\n",
      "(10000, 28, 28)\n"
     ]
    }
   ],
   "source": [
    "print(X_train.shape)\n",
    "print(X_test.shape)"
   ]
  },
  {
   "cell_type": "code",
   "execution_count": 5,
   "metadata": {},
   "outputs": [
    {
     "data": {
      "text/plain": [
       "dtype('uint8')"
      ]
     },
     "execution_count": 5,
     "metadata": {},
     "output_type": "execute_result"
    }
   ],
   "source": [
    "X_train[0].dtype"
   ]
  },
  {
   "cell_type": "code",
   "execution_count": 6,
   "metadata": {},
   "outputs": [
    {
     "name": "stdout",
     "output_type": "stream",
     "text": [
      "255\n",
      "255\n"
     ]
    }
   ],
   "source": [
    "print(X_train[0].max())\n",
    "print(X_test[0].max())"
   ]
  },
  {
   "cell_type": "code",
   "execution_count": 7,
   "metadata": {},
   "outputs": [
    {
     "name": "stdout",
     "output_type": "stream",
     "text": [
      "0.92705966211359\n",
      "0.9001142474626551\n"
     ]
    }
   ],
   "source": [
    "X_train = keras.utils.normalize(X_train, axis = 1)\n",
    "X_test = keras.utils.normalize(X_test, axis = 1)\n",
    "print(X_train[0].max())\n",
    "print(X_test[0].max())"
   ]
  },
  {
   "cell_type": "code",
   "execution_count": 8,
   "metadata": {},
   "outputs": [
    {
     "name": "stdout",
     "output_type": "stream",
     "text": [
      "(60000,)\n",
      "(10000,)\n"
     ]
    }
   ],
   "source": [
    "print(y_train.shape)\n",
    "print(y_test.shape)"
   ]
  },
  {
   "cell_type": "code",
   "execution_count": 9,
   "metadata": {},
   "outputs": [
    {
     "data": {
      "text/plain": [
       "dtype('uint8')"
      ]
     },
     "execution_count": 9,
     "metadata": {},
     "output_type": "execute_result"
    }
   ],
   "source": [
    "y_train.dtype"
   ]
  },
  {
   "cell_type": "code",
   "execution_count": 10,
   "metadata": {},
   "outputs": [
    {
     "data": {
      "text/plain": [
       "<matplotlib.axes._subplots.AxesSubplot at 0x7f72720379d0>"
      ]
     },
     "execution_count": 10,
     "metadata": {},
     "output_type": "execute_result"
    },
    {
     "data": {
      "image/png": "[encoded data removed]",
      "text/plain": [
       "<Figure size 432x288 with 1 Axes>"
      ]
     },
     "metadata": {
      "needs_background": "light"
     },
     "output_type": "display_data"
    }
   ],
   "source": [
    "sns.countplot(y_train)"
   ]
  },
  {
   "cell_type": "code",
   "execution_count": 11,
   "metadata": {},
   "outputs": [
    {
     "data": {
      "text/plain": [
       "<matplotlib.axes._subplots.AxesSubplot at 0x7f726e330a90>"
      ]
     },
     "execution_count": 11,
     "metadata": {},
     "output_type": "execute_result"
    },
    {
     "data": {
      "image/png": "[encoded data removed]",
      "text/plain": [
       "<Figure size 432x288 with 1 Axes>"
      ]
     },
     "metadata": {
      "needs_background": "light"
     },
     "output_type": "display_data"
    }
   ],
   "source": [
    "sns.countplot(y_test)"
   ]
  },
  {
   "cell_type": "code",
   "execution_count": 12,
   "metadata": {},
   "outputs": [],
   "source": [
    "model = keras.Sequential([\n",
    "    keras.layers.Flatten(),\n",
    "    keras.layers.Dense(activation = 'relu', units = 128),\n",
    "    keras.layers.Dropout(0.2),\n",
    "    keras.layers.BatchNormalization(),\n",
    "    keras.layers.Dense(activation = 'relu', units = 128),\n",
    "    keras.layers.Dropout(0.2),\n",
    "    keras.layers.BatchNormalization(),\n",
    "    keras.layers.Dense(activation = 'relu', units = 128),\n",
    "    keras.layers.Dropout(0.2),\n",
    "    keras.layers.BatchNormalization(),\n",
    "    keras.layers.Dense(activation = 'softmax', units = 10)\n",
    "])"
   ]
  },
  {
   "cell_type": "code",
   "execution_count": 13,
   "metadata": {},
   "outputs": [],
   "source": [
    "model.compile(\n",
    "    optimizer = 'adam',\n",
    "    loss = 'sparse_categorical_crossentropy',\n",
    "    metrics = ['accuracy']\n",
    ")"
   ]
  },
  {
   "cell_type": "code",
   "execution_count": 14,
   "metadata": {
    "scrolled": false
   },
   "outputs": [
    {
     "name": "stdout",
     "output_type": "stream",
     "text": [
      "Epoch 1/15\n",
      "938/938 [==============================] - 27s 29ms/step - loss: 0.4193 - accuracy: 0.8727 - val_loss: 0.1569 - val_accuracy: 0.9521\n",
      "Epoch 2/15\n",
      "938/938 [==============================] - 22s 23ms/step - loss: 0.2067 - accuracy: 0.9383 - val_loss: 0.1204 - val_accuracy: 0.9620\n",
      "Epoch 3/15\n",
      "938/938 [==============================] - 22s 23ms/step - loss: 0.1646 - accuracy: 0.9503 - val_loss: 0.1050 - val_accuracy: 0.9691\n",
      "Epoch 4/15\n",
      "938/938 [==============================] - 25s 26ms/step - loss: 0.1407 - accuracy: 0.9569 - val_loss: 0.0934 - val_accuracy: 0.9728\n",
      "Epoch 5/15\n",
      "938/938 [==============================] - 26s 28ms/step - loss: 0.1221 - accuracy: 0.9622 - val_loss: 0.0925 - val_accuracy: 0.9712\n",
      "Epoch 6/15\n",
      "938/938 [==============================] - 24s 26ms/step - loss: 0.1136 - accuracy: 0.9656 - val_loss: 0.0875 - val_accuracy: 0.9734\n",
      "Epoch 7/15\n",
      "938/938 [==============================] - 23s 25ms/step - loss: 0.1036 - accuracy: 0.9682 - val_loss: 0.0841 - val_accuracy: 0.9749\n",
      "Epoch 8/15\n",
      "938/938 [==============================] - 26s 28ms/step - loss: 0.0940 - accuracy: 0.9712 - val_loss: 0.0812 - val_accuracy: 0.9768\n",
      "Epoch 9/15\n",
      "938/938 [==============================] - 26s 28ms/step - loss: 0.0888 - accuracy: 0.9722 - val_loss: 0.0889 - val_accuracy: 0.9736\n",
      "Epoch 10/15\n",
      "938/938 [==============================] - 24s 26ms/step - loss: 0.0851 - accuracy: 0.9735 - val_loss: 0.0767 - val_accuracy: 0.9776\n",
      "Epoch 11/15\n",
      "938/938 [==============================] - 21s 22ms/step - loss: 0.0801 - accuracy: 0.9754 - val_loss: 0.0754 - val_accuracy: 0.9785\n",
      "Epoch 12/15\n",
      "938/938 [==============================] - 21s 23ms/step - loss: 0.0775 - accuracy: 0.9758 - val_loss: 0.0785 - val_accuracy: 0.9782\n",
      "Epoch 13/15\n",
      "938/938 [==============================] - 27s 29ms/step - loss: 0.0714 - accuracy: 0.9772 - val_loss: 0.0714 - val_accuracy: 0.9790\n",
      "Epoch 14/15\n",
      "938/938 [==============================] - 27s 29ms/step - loss: 0.0693 - accuracy: 0.9786 - val_loss: 0.0710 - val_accuracy: 0.9776\n",
      "Epoch 15/15\n",
      "938/938 [==============================] - 26s 28ms/step - loss: 0.0664 - accuracy: 0.9796 - val_loss: 0.0714 - val_accuracy: 0.9801\n"
     ]
    }
   ],
   "source": [
    "history = model.fit(\n",
    "    X_train, y_train,\n",
    "    validation_data = (X_test, y_test),\n",
    "    epochs = 15,\n",
    "    batch_size = 64\n",
    ")"
   ]
  },
  {
   "cell_type": "code",
   "execution_count": 15,
   "metadata": {},
   "outputs": [
    {
     "name": "stdout",
     "output_type": "stream",
     "text": [
      "Best validation loss:  0.07095172256231308\n",
      "Best validation accuracy:  0.9800999760627747\n"
     ]
    },
    {
     "data": {
      "image/png": "[encoded data removed]",
      "text/plain": [
       "<Figure size 432x288 with 1 Axes>"
      ]
     },
     "metadata": {
      "needs_background": "light"
     },
     "output_type": "display_data"
    },
    {
     "data": {
      "image/png": "[encoded data removed]",
      "text/plain": [
       "<Figure size 432x288 with 1 Axes>"
      ]
     },
     "metadata": {
      "needs_background": "light"
     },
     "output_type": "display_data"
    }
   ],
   "source": [
    "history_df = pd.DataFrame(history.history)\n",
    "history_df.loc[:, ['loss', 'val_loss']].plot()\n",
    "history_df.loc[:, ['accuracy', 'val_accuracy']].plot()\n",
    "\n",
    "print('Best validation loss: ', history_df['val_loss'].min()) \n",
    "print('Best validation accuracy: ', history_df['val_accuracy'].max())         "
   ]
  },
  {
   "cell_type": "code",
   "execution_count": 16,
   "metadata": {},
   "outputs": [],
   "source": [
    "model.save('digit_recognizer.h5')"
   ]
  },
  {
   "cell_type": "code",
   "execution_count": 17,
   "metadata": {},
   "outputs": [
    {
     "name": "stdout",
     "output_type": "stream",
     "text": [
      "313/313 [==============================] - 4s 12ms/step - loss: 0.0714 - accuracy: 0.9801\n",
      "[0.07141268998384476, 0.9800999760627747]\n"
     ]
    }
   ],
   "source": [
    "scores = model.evaluate(X_test, y_test)\n",
    "print(scores)"
   ]
  }
 ],
 "metadata": {
  "kernelspec": {
   "display_name": "Python 3",
   "language": "python",
   "name": "python3"
  },
  "language_info": {
   "codemirror_mode": {
    "name": "ipython",
    "version": 3
   },
   "file_extension": ".py",
   "mimetype": "text/x-python",
   "name": "python",
   "nbconvert_exporter": "python",
   "pygments_lexer": "ipython3",
   "version": "3.7.6"
  }
 },
 "nbformat": 4,
 "nbformat_minor": 4
}
